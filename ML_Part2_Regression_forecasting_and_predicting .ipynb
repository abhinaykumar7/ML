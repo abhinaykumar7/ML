{
 "cells": [
  {
   "cell_type": "code",
   "execution_count": 1,
   "metadata": {
    "collapsed": false
   },
   "outputs": [],
   "source": [
    "import pandas as pd\n",
    "import quandl # need pip install <>\n",
    "import math\n",
    "import numpy as np\n",
    "from sklearn import preprocessing,model_selection,linear_model,svm\n",
    "# Need internet connection for sklearn\n",
    "# svm - support vector model\n",
    "# skelearn - http://scikit-learn.org/stable/index.html\n",
    "# Approach followed is Supervised learning\n",
    "# Idea here is to train a classifier. For that a 2D array X for the input variables and a 1D array y for the target variables. \n",
    "#The array X holds the features as columns and samples as rows . \n",
    "#The array y contains integer values to encode the class membership of each sample in X.\n",
    "from IPython.core.interactiveshell import InteractiveShell\n",
    "InteractiveShell.ast_node_interactivity = \"all\""
   ]
  },
  {
   "cell_type": "code",
   "execution_count": 2,
   "metadata": {
    "collapsed": true
   },
   "outputs": [],
   "source": [
    "#https://www.quandl.com/data/WIKI-Wiki-EOD-Stock-Prices - for getting data sets\n",
    "# API Key - hWWAPym1jgJeSUKyGMLd\n",
    "# user-abhinay.pass-wifeyy"
   ]
  },
  {
   "cell_type": "code",
   "execution_count": 3,
   "metadata": {
    "collapsed": true
   },
   "outputs": [],
   "source": [
    "#quandl.ApiConfig.api_key = 'hWWAPym1jgJeSUKyGMLd' - will import data only once so as not to hit limit"
   ]
  },
  {
   "cell_type": "code",
   "execution_count": 4,
   "metadata": {
    "collapsed": false
   },
   "outputs": [],
   "source": [
    "#data = quandl.get_table('WIKI/PRICES') -- will import data only once so as not to hit limit"
   ]
  },
  {
   "cell_type": "code",
   "execution_count": 5,
   "metadata": {
    "collapsed": false
   },
   "outputs": [],
   "source": [
    "#data"
   ]
  },
  {
   "cell_type": "code",
   "execution_count": 6,
   "metadata": {
    "collapsed": true
   },
   "outputs": [],
   "source": [
    "#data.to_csv(\"F:/BigData/inputfiles/ML/internet/google_stock_price.csv\",sep=\",\")"
   ]
  },
  {
   "cell_type": "code",
   "execution_count": 7,
   "metadata": {
    "collapsed": false
   },
   "outputs": [],
   "source": [
    "data=pd.read_csv(\"F:/BigData/inputfiles/ML/internet/google_stock_price.csv\",index_col='date')\n"
   ]
  },
  {
   "cell_type": "code",
   "execution_count": 8,
   "metadata": {
    "collapsed": true
   },
   "outputs": [],
   "source": [
    "# open\thigh\tlow\tclose\tvolume\tex-dividend\tsplit_ratio\tadj_open\tadj_high\tadj_low\tadj_close\tadj_volume\n",
    "# above attributes are features\n",
    "# In machine learning you can have as much feature you want and have meaningful feature\n",
    "# Need meaningful data for arrive at pattern or find a pattern\n",
    "# adj - adjusted price here shows the stock split\n",
    "# find relationship between features or column label e.g. low price of stocks might bring in more buyer(increased volume)\n",
    "# Pick the meaningful features and discard others\n",
    "\n",
    "# Open price, high and low - tells us about the volatility of market share "
   ]
  },
  {
   "cell_type": "code",
   "execution_count": 9,
   "metadata": {
    "collapsed": true
   },
   "outputs": [],
   "source": [
    "df=data[['adj_open','adj_high','adj_low','adj_close','adj_volume']]"
   ]
  },
  {
   "cell_type": "code",
   "execution_count": 10,
   "metadata": {
    "collapsed": false
   },
   "outputs": [
    {
     "name": "stderr",
     "output_type": "stream",
     "text": [
      "e:\\ProgramData\\Anaconda3\\lib\\site-packages\\ipykernel\\__main__.py:2: SettingWithCopyWarning: \n",
      "A value is trying to be set on a copy of a slice from a DataFrame.\n",
      "Try using .loc[row_indexer,col_indexer] = value instead\n",
      "\n",
      "See the caveats in the documentation: http://pandas.pydata.org/pandas-docs/stable/indexing.html#indexing-view-versus-copy\n",
      "  from ipykernel import kernelapp as app\n"
     ]
    }
   ],
   "source": [
    "# Find percentage change in price of stock\n",
    "df['HL_PCT']=(data['adj_high'] - data['adj_low'])/data['adj_low'] * 100"
   ]
  },
  {
   "cell_type": "code",
   "execution_count": 11,
   "metadata": {
    "collapsed": false
   },
   "outputs": [
    {
     "name": "stderr",
     "output_type": "stream",
     "text": [
      "e:\\ProgramData\\Anaconda3\\lib\\site-packages\\ipykernel\\__main__.py:2: SettingWithCopyWarning: \n",
      "A value is trying to be set on a copy of a slice from a DataFrame.\n",
      "Try using .loc[row_indexer,col_indexer] = value instead\n",
      "\n",
      "See the caveats in the documentation: http://pandas.pydata.org/pandas-docs/stable/indexing.html#indexing-view-versus-copy\n",
      "  from ipykernel import kernelapp as app\n"
     ]
    }
   ],
   "source": [
    "#Daily percentage change\n",
    "df['PCT_change']=(data['adj_close'] - data['adj_open'])/data['adj_open'] * 100\n",
    "#df"
   ]
  },
  {
   "cell_type": "code",
   "execution_count": 12,
   "metadata": {
    "collapsed": false
   },
   "outputs": [],
   "source": [
    "# Now take the columns which are of intrest to us\n",
    "df = df [['adj_close','HL_PCT','PCT_change','adj_volume']]\n",
    "#df"
   ]
  },
  {
   "cell_type": "code",
   "execution_count": 13,
   "metadata": {
    "collapsed": false
   },
   "outputs": [],
   "source": [
    "# Target here is to predict future - and that is gone be price of stock and this price is label for us\n",
    "# Idea here is to get the adjusted close price for the day\n",
    "#\n"
   ]
  },
  {
   "cell_type": "code",
   "execution_count": 14,
   "metadata": {
    "collapsed": false
   },
   "outputs": [],
   "source": [
    "#df['adj_close']"
   ]
  },
  {
   "cell_type": "code",
   "execution_count": 15,
   "metadata": {
    "collapsed": false
   },
   "outputs": [],
   "source": [
    "\n",
    "#df['adj_close'].shift\n"
   ]
  },
  {
   "cell_type": "code",
   "execution_count": 16,
   "metadata": {
    "collapsed": false
   },
   "outputs": [
    {
     "name": "stdout",
     "output_type": "stream",
     "text": [
      "[[  3.00796732e+01   2.50000000e+01  -3.29670330e+00   4.47399000e+07]\n",
      " [  2.76049364e+01   8.01306204e+00  -5.96180717e+00   1.08971000e+07]\n",
      " [  3.00796732e+01   9.83524713e+00   6.51174050e+00   4.70520000e+06]\n",
      " ..., \n",
      " [  1.49951282e+00   2.32558140e+00  -1.09090909e+00   6.79002750e+05]\n",
      " [  1.55050728e+00   4.65116279e+00   3.40073529e+00   4.00275000e+03]\n",
      " [  1.51605156e+00   0.00000000e+00   0.00000000e+00   1.25502750e+05]]\n",
      "After preprocessing scale\n",
      "[[-0.21250145  4.53343684 -0.90470133  8.70719362]\n",
      " [-0.23016629  0.82505465 -1.61933183  1.52871114]\n",
      " [-0.21250145  1.22285199  1.72536995  0.21533146]\n",
      " ..., \n",
      " [-0.4165085  -0.41656712 -0.31323176 -0.63867549]\n",
      " [-0.4161445   0.0911256   0.89117386 -0.78185146]\n",
      " [-0.41639045 -0.92425983 -0.02071149 -0.75607978]]\n"
     ]
    }
   ],
   "source": [
    "\n",
    "# Introduce a new column, this is going to be our label?\n",
    "forecast_col = 'adj_close' #forecast_col this is just a variable at this point of time\n",
    "\n",
    "df.fillna(-99999,inplace=True) # ML cannot work with NaN data so need to replace it with some outlier value\n",
    "                               # in real there are lots of missing data. One column might have a missing data while \n",
    "                               # others may have data, so not a good idea to ignore a row as one of columns had NaN\n",
    "\n",
    "forecast_out=int(math.ceil(0.01*len(df))) \n",
    "                                    # math.ceil, rounded off to nearest integer e.g. math.ceil(0.3) gives 1\n",
    "                                    # len(df) - gives the no. of rows in df\n",
    "                                    # 0.1 - represents 10% of dataframe - 10/100\n",
    "                                    # 0.01 - represents 1% of dataframe - 1/100                                                                 \n",
    "                                    # Give that there are 10000 rows forecast_out would be set to 100\n",
    "\n",
    "\n",
    "df['label']=df[forecast_col].shift(-forecast_out) \n",
    "# label column is copying values from forecast_col\n",
    "# shift is moving the column values by 100 posistion, so value in column label in row is now 100 days head of date\n",
    "# How shift operation works(shifting on z)\n",
    "# \n",
    "#  original df      after shift(1) - down      after shift(-1) - up\n",
    "#  x   y    z       x     y     z                   x      y      z\n",
    "#  1   206  214     1   206  Nan                   1      206    234      \n",
    "#  2   226  234     2   226  214                   2      226    253 \n",
    "#  3   245  253     3   245  234                   3      245    291\n",
    "#  4   283  291     4   283  253                   4      283    NaN\n",
    "#\n",
    "\n",
    "# define X and y, both as array\n",
    "# feature are X \n",
    "# labels are y\n",
    "X=np.array(df.drop(['label'],1)) # drop labels colums and assign all other feature to X\n",
    "print(X)\n",
    "X.shape()\n",
    "X=preprocessing.scale(X) # X is nd array of 4 columns and 9900 rows\n",
    "print('After preprocessing scale')\n",
    "print(X)\n",
    "X.shape()\n",
    "#preprocessing.scale - Standardize a dataset along any axis\n",
    "X=X[:-forecast_out] # 0th row to forecast_out th row\n",
    "X_lately=X[-forecast_out:] #forecast_out th row to last row, this is row against which prediction would be \n",
    "                           # These are the rows in past\n",
    "    \n",
    "\n",
    "\n",
    "# X is 9900 rows and 4 columns\n",
    "\n",
    "# Since forecast_out = 100 there would be 100 NaN, time to drop them now\n",
    "df.dropna(inplace=True)\n",
    "y=np.array(df['label']) # label column assigned as an array\n",
    "\n",
    "\n",
    "\n",
    "\n",
    "# Now lets create the label \n",
    "#df['adj_close'] shows data as\n",
    "#date\n",
    "#1999-11-18    30.079673\n",
    "#df['adj_close'].shift , it shifts the data up negatively. now data shows up like\n",
    "#\n",
    "#1999-11-18    30.079673\n",
    "\n",
    "# At the end of this we have got features and labels\n"
   ]
  },
  {
   "cell_type": "code",
   "execution_count": 17,
   "metadata": {
    "collapsed": false
   },
   "outputs": [
    {
     "name": "stdout",
     "output_type": "stream",
     "text": [
      "[[-0.4166364  -0.41083587 -0.34110364 -0.75291989]\n",
      " [-0.41639045 -0.68347909  0.27503511 -0.76151045]\n",
      " [-0.41639045 -0.41656712 -0.02071149 -0.77067371]\n",
      " [-0.41639045 -0.41656712 -0.02071149 -0.7589433 ]\n",
      " [-0.41639045 -0.68347909 -0.02071149 -0.77811886]\n",
      " [-0.4165085  -0.41656712 -0.31323176 -0.76237953]\n",
      " [-0.41639045 -0.44269836  0.27503511 -0.75722519]\n",
      " [-0.41602645 -0.18995155  0.88122602 -0.71397603]\n",
      " [-0.41589855 -0.17824374  0.28587308 -0.75550708]\n",
      " [-0.41565261 -0.44967751  0.56220934 -0.77640075]\n",
      " [-0.41565261 -0.92425983 -0.02071149 -0.78155508]\n",
      " [-0.41602645 -0.92425983 -0.02071149 -0.77754616]\n",
      " [-0.41602645 -0.92425983 -0.02071149 -0.76838289]\n",
      " [-0.41589855 -0.43913124  0.28587308 -0.76208315]\n",
      " [-0.41639045 -0.42810559 -0.61658612 -0.77410993]\n",
      " [-0.4166364  -0.41656712 -0.63012873 -0.71283062]\n",
      " [-0.4166364  -0.92425983 -0.02071149 -0.78270049]\n",
      " [-0.41639045 -0.41656712  0.60287824 -0.78098238]\n",
      " [-0.41639045 -0.92425983 -0.02071149 -0.78270049]\n",
      " [-0.41639045 -0.41656712 -0.02071149 -0.76810656]\n",
      " [-0.41639045  0.11530144 -0.02071149 -0.7732609 ]\n",
      " [-0.41675445 -0.16439237 -0.922649   -0.78127875]\n",
      " [-0.4166364  -0.67781633  0.28199058 -0.77869156]\n",
      " [-0.4166364  -0.92425983 -0.02071149 -0.78212779]\n",
      " [-0.4166364  -0.92425983 -0.02071149 -0.78212779]\n",
      " [-0.41675445 -0.92425983 -0.02071149 -0.78212779]\n",
      " [-0.4166364  -0.41083587  0.28199058 -0.76666478]\n",
      " [-0.4165085  -0.92425983 -0.02071149 -0.78127875]\n",
      " [-0.4165085  -0.41083587 -0.02071149 -0.75864693]\n",
      " [-0.41675445 -0.92425983 -0.02071149 -0.78185146]\n",
      " [-0.41675445 -0.92425983 -0.02071149 -0.78242416]\n",
      " [-0.4166364  -0.92425983 -0.02071149 -0.78212779]\n",
      " [-0.4165085  -0.66025962  0.30355517 -0.77154279]\n",
      " [-0.4165085  -0.92425983 -0.02071149 -0.78127875]\n",
      " [-0.41639045 -0.41656712  0.27503511 -0.76810656]\n",
      " [-0.41639045 -0.92425983 -0.02071149 -0.78270049]\n",
      " [-0.4166364  -0.92425983 -0.02071149 -0.77983697]\n",
      " [-0.4166364  -0.92425983 -0.02071149 -0.78242416]\n",
      " [-0.4166364  -0.92425983 -0.02071149 -0.78270049]\n",
      " [-0.41639045 -0.41656712  0.60287824 -0.78013335]\n",
      " [-0.4165085  -0.92425983 -0.02071149 -0.76551937]\n",
      " [-0.4165085  -0.68347909 -0.02071149 -0.77525534]\n",
      " [-0.4165085  -0.68347909 -0.02071149 -0.77410993]\n",
      " [-0.4165085  -0.92425983 -0.02071149 -0.77869156]\n",
      " [-0.41688234 -0.13419326 -0.95724239 -0.73860229]\n",
      " [-0.41675445 -0.92425983 -0.02071149 -0.77669712]\n",
      " [-0.41675445 -0.92425983 -0.02071149 -0.78270049]\n",
      " [-0.41675445 -0.92425983 -0.02071149 -0.78270049]\n",
      " [-0.41675445 -0.92425983 -0.02071149 -0.78242416]\n",
      " [-0.41675445 -0.92425983 -0.02071149 -0.77640075]\n",
      " [-0.41675445 -0.67781633 -0.02071149 -0.75493437]\n",
      " [-0.41675445 -0.67781633 -0.02071149 -0.78185146]\n",
      " [-0.4166364  -0.67781633  0.28199058 -0.78098238]\n",
      " [-0.41688234 -0.40447919 -0.64430122 -0.77926427]\n",
      " [-0.41688234 -0.92425983 -0.02071149 -0.78270049]\n",
      " [-0.4165085   0.11530144  0.94971291 -0.77296452]\n",
      " [-0.4165085  -0.92425983 -0.02071149 -0.78270049]\n",
      " [-0.4165085  -0.92425983 -0.02071149 -0.78185146]\n",
      " [-0.41688234 -0.92425983 -0.02071149 -0.78242416]\n",
      " [-0.41688234 -0.92425983 -0.02071149 -0.78270049]\n",
      " [-0.41688234 -0.92425983 -0.02071149 -0.78270049]\n",
      " [-0.4165085  -0.13419326  0.94971291 -0.55276991]\n",
      " [-0.41675445 -0.41083587 -0.63685024 -0.77898794]\n",
      " [-0.41675445 -0.41083587 -0.02071149 -0.78070605]\n",
      " [-0.4165085  -0.41083587  0.60991782 -0.61863085]\n",
      " [-0.41675445 -0.41083587 -0.63685024 -0.7248574 ]\n",
      " [-0.4165085  -0.41083587  0.60991782 -0.77640075]\n",
      " [-0.4165085  -0.41083587 -0.02071149 -0.74176219]\n",
      " [-0.41675445 -0.41083587 -0.63685024 -0.74806193]\n",
      " [-0.41675445 -0.92425983 -0.02071149 -0.77926427]\n",
      " [-0.41675445 -0.41083587 -0.02071149 -0.7726882 ]\n",
      " [-0.4166364  -0.41656712 -0.02071149 -0.18853024]\n",
      " [-0.4166364  -0.41656712 -0.02071149 -0.56507302]\n",
      " [-0.4166364  -0.92425983 -0.02071149 -0.78070605]\n",
      " [-0.4161445   0.0911256   1.22646797 -0.78185146]\n",
      " [-0.4166364  -0.66025962 -0.34110364 -0.72286296]\n",
      " [-0.41688234 -0.40447919 -0.64430122 -0.7540653 ]\n",
      " [-0.41688234 -0.92425983 -0.02071149 -0.77926427]\n",
      " [-0.41737424 -0.92425983 -0.02071149 -0.78155508]\n",
      " [-0.41762019 -0.36449607 -0.69107045 -0.7540653 ]\n",
      " [-0.41762019 -0.92425983 -0.02071149 -0.78270049]\n",
      " [-0.41737424 -0.92425983 -0.02071149 -0.78212779]\n",
      " [-0.41762019 -0.36449607 -0.69107045 -0.77669712]\n",
      " [-0.41762019 -0.36449607 -0.02071149 -0.74432933]\n",
      " [-0.41762019 -0.36449607 -0.02071149 -0.76093774]\n",
      " [-0.41762019 -0.92425983 -0.02071149 -0.78185146]\n",
      " [-0.41762019 -0.92425983 -0.02071149 -0.77440631]\n",
      " [-0.41750213 -0.65557322  0.30931138 -0.77669712]\n",
      " [-0.41762019 -0.92425983 -0.02071149 -0.78155508]\n",
      " [-0.41750213 -0.63672161 -0.02071149 -0.73603515]\n",
      " [-0.41737424 -0.63672161  0.33246648 -0.76208315]\n",
      " [-0.41737424 -0.92425983 -0.02071149 -0.78270049]\n",
      " [-0.41725618 -0.66229039  0.30106081 -0.77410993]\n",
      " [-0.41737424 -0.92425983 -0.02071149 -0.78212779]\n",
      " [-0.41737424 -0.37849016 -0.02071149 -0.77956064]\n",
      " [-0.41725618 -0.64382482 -0.02071149 -0.77898794]\n",
      " [-0.41725618 -0.92425983 -0.02071149 -0.78270049]\n",
      " [-0.41725618 -0.92425983 -0.02071149 -0.78270049]\n",
      " [-0.41750213 -0.09580946 -0.68312153 -0.75779789]\n",
      " [-0.41762019 -0.92425983 -0.02071149 -0.77926427]]\n"
     ]
    }
   ],
   "source": [
    "# Now time for classifier, train our machine\n",
    "# sklearn library\n",
    "#\n",
    "#       - preprocessing\n",
    "#       - cross_validation helps with stats, avoiding biased stats\n",
    "#       - svm - support vector machine\n",
    "#       - LinearRegression\n",
    "print(X_lately)"
   ]
  },
  {
   "cell_type": "code",
   "execution_count": 18,
   "metadata": {
    "collapsed": false
   },
   "outputs": [
    {
     "data": {
      "text/plain": [
       "(9900, 9900)"
      ]
     },
     "execution_count": 18,
     "metadata": {},
     "output_type": "execute_result"
    }
   ],
   "source": [
    "len(X) ,len(y) # length of X and y should match"
   ]
  },
  {
   "cell_type": "code",
   "execution_count": 19,
   "metadata": {
    "collapsed": true
   },
   "outputs": [],
   "source": [
    "X_train,X_test,y_train,y_test = model_selection.train_test_split(X,y,test_size=0.2)\n",
    "#Split arrays or matrices into random train and test subsets\n",
    "#test_size shold be between 0.0 and 1.0 \n",
    "#\n"
   ]
  },
  {
   "cell_type": "code",
   "execution_count": 20,
   "metadata": {
    "collapsed": false
   },
   "outputs": [],
   "source": [
    "# train and test have same no of rows for X and y\n",
    "#X_train.shape - (7920, 4)\n",
    "#X_test.shape - (1980, 4)\n",
    "#y_train.shape - (7920,)\n",
    "#y_test.shape - (1980,)"
   ]
  },
  {
   "cell_type": "code",
   "execution_count": 21,
   "metadata": {
    "collapsed": false
   },
   "outputs": [
    {
     "data": {
      "text/plain": [
       "LinearRegression(copy_X=True, fit_intercept=True, n_jobs=-1, normalize=False)"
      ]
     },
     "execution_count": 21,
     "metadata": {},
     "output_type": "execute_result"
    },
    {
     "name": "stdout",
     "output_type": "stream",
     "text": [
      "100 0.631676076832\n"
     ]
    }
   ],
   "source": [
    "clf=linear_model.LinearRegression(n_jobs=-1) \n",
    "clf.fit(X_train,y_train) # fit is done on sample and in real world would be book taught in school\n",
    "accuracy=clf.score(X_test,y_test) # test is done on probable outcome and in real world it maps to questions in exam\n",
    "print(forecast_out,accuracy)\n",
    "\n",
    "# Important fact is that Linearregresion can be multi threaded, meaning this job can be \n",
    "# run in batches, look at the help page and go for n_jobs -1 , means as many batch as possible\n",
    "# Support vector cannot be run in multi threaded"
   ]
  },
  {
   "cell_type": "code",
   "execution_count": 22,
   "metadata": {
    "collapsed": false
   },
   "outputs": [
    {
     "data": {
      "text/plain": [
       "array([[-0.21250145,  4.53343684, -0.90470133,  8.70719362],\n",
       "       [-0.23016629,  0.82505465, -1.61933183,  1.52871114],\n",
       "       [-0.21250145,  1.22285199,  1.72536995,  0.21533146],\n",
       "       ..., \n",
       "       [-0.41725618, -0.92425983, -0.02071149, -0.78270049],\n",
       "       [-0.41750213, -0.09580946, -0.68312153, -0.75779789],\n",
       "       [-0.41762019, -0.92425983, -0.02071149, -0.77926427]])"
      ]
     },
     "execution_count": 22,
     "metadata": {},
     "output_type": "execute_result"
    }
   ],
   "source": [
    "#df.tail()\n",
    "#X_lately\n",
    "X"
   ]
  },
  {
   "cell_type": "code",
   "execution_count": 23,
   "metadata": {
    "collapsed": false
   },
   "outputs": [],
   "source": [
    "#clf=svm.SVR(kernel='poly') # changed algorithm to SVR, support vector regression algorithm\n",
    "#clf.fit(X_train,y_train) # fit is done on sample and in real world would be book taught in school\n",
    "#accuracy=clf.score(X_test,y_test) # test is done on probable outcome and in real world it maps to questions in exam\n",
    "#print(forecast_out,accuracy)"
   ]
  },
  {
   "cell_type": "code",
   "execution_count": 24,
   "metadata": {
    "collapsed": false
   },
   "outputs": [
    {
     "data": {
      "text/html": [
       "<div>\n",
       "<table border=\"1\" class=\"dataframe\">\n",
       "  <thead>\n",
       "    <tr style=\"text-align: right;\">\n",
       "      <th></th>\n",
       "      <th>adj_close</th>\n",
       "      <th>HL_PCT</th>\n",
       "      <th>PCT_change</th>\n",
       "      <th>adj_volume</th>\n",
       "      <th>label</th>\n",
       "    </tr>\n",
       "  </thead>\n",
       "  <tbody>\n",
       "    <tr>\n",
       "      <th>count</th>\n",
       "      <td>9900.000000</td>\n",
       "      <td>9900.000000</td>\n",
       "      <td>9900.000000</td>\n",
       "      <td>9.900000e+03</td>\n",
       "      <td>9900.000000</td>\n",
       "    </tr>\n",
       "    <tr>\n",
       "      <th>mean</th>\n",
       "      <td>60.440041</td>\n",
       "      <td>4.250967</td>\n",
       "      <td>0.075989</td>\n",
       "      <td>3.726284e+06</td>\n",
       "      <td>59.896390</td>\n",
       "    </tr>\n",
       "    <tr>\n",
       "      <th>std</th>\n",
       "      <td>140.683106</td>\n",
       "      <td>4.594454</td>\n",
       "      <td>3.741021</td>\n",
       "      <td>4.724525e+06</td>\n",
       "      <td>140.790568</td>\n",
       "    </tr>\n",
       "    <tr>\n",
       "      <th>min</th>\n",
       "      <td>0.895849</td>\n",
       "      <td>0.000000</td>\n",
       "      <td>-30.428571</td>\n",
       "      <td>0.000000e+00</td>\n",
       "      <td>0.895849</td>\n",
       "    </tr>\n",
       "    <tr>\n",
       "      <th>25%</th>\n",
       "      <td>16.560000</td>\n",
       "      <td>1.837968</td>\n",
       "      <td>-1.253964</td>\n",
       "      <td>9.988500e+05</td>\n",
       "      <td>16.154152</td>\n",
       "    </tr>\n",
       "    <tr>\n",
       "      <th>50%</th>\n",
       "      <td>26.435931</td>\n",
       "      <td>3.030303</td>\n",
       "      <td>0.000000</td>\n",
       "      <td>2.514600e+06</td>\n",
       "      <td>26.078137</td>\n",
       "    </tr>\n",
       "    <tr>\n",
       "      <th>75%</th>\n",
       "      <td>41.538295</td>\n",
       "      <td>5.075710</td>\n",
       "      <td>1.281516</td>\n",
       "      <td>4.791037e+06</td>\n",
       "      <td>41.126178</td>\n",
       "    </tr>\n",
       "    <tr>\n",
       "      <th>max</th>\n",
       "      <td>1196.360000</td>\n",
       "      <td>106.349206</td>\n",
       "      <td>106.349206</td>\n",
       "      <td>1.377672e+08</td>\n",
       "      <td>1196.360000</td>\n",
       "    </tr>\n",
       "  </tbody>\n",
       "</table>\n",
       "</div>"
      ],
      "text/plain": [
       "         adj_close       HL_PCT   PCT_change    adj_volume        label\n",
       "count  9900.000000  9900.000000  9900.000000  9.900000e+03  9900.000000\n",
       "mean     60.440041     4.250967     0.075989  3.726284e+06    59.896390\n",
       "std     140.683106     4.594454     3.741021  4.724525e+06   140.790568\n",
       "min       0.895849     0.000000   -30.428571  0.000000e+00     0.895849\n",
       "25%      16.560000     1.837968    -1.253964  9.988500e+05    16.154152\n",
       "50%      26.435931     3.030303     0.000000  2.514600e+06    26.078137\n",
       "75%      41.538295     5.075710     1.281516  4.791037e+06    41.126178\n",
       "max    1196.360000   106.349206   106.349206  1.377672e+08  1196.360000"
      ]
     },
     "execution_count": 24,
     "metadata": {},
     "output_type": "execute_result"
    }
   ],
   "source": [
    "df.describe()"
   ]
  },
  {
   "cell_type": "code",
   "execution_count": 25,
   "metadata": {
    "collapsed": false
   },
   "outputs": [
    {
     "data": {
      "text/plain": [
       "array([[-0.21250145,  4.53343684, -0.90470133,  8.70719362],\n",
       "       [-0.23016629,  0.82505465, -1.61933183,  1.52871114],\n",
       "       [-0.21250145,  1.22285199,  1.72536995,  0.21533146],\n",
       "       ..., \n",
       "       [-0.41725618, -0.92425983, -0.02071149, -0.78270049],\n",
       "       [-0.41750213, -0.09580946, -0.68312153, -0.75779789],\n",
       "       [-0.41762019, -0.92425983, -0.02071149, -0.77926427]])"
      ]
     },
     "execution_count": 25,
     "metadata": {},
     "output_type": "execute_result"
    }
   ],
   "source": [
    "#df[-forecast_out:]\n",
    "X[:]"
   ]
  },
  {
   "cell_type": "code",
   "execution_count": 26,
   "metadata": {
    "collapsed": false
   },
   "outputs": [
    {
     "name": "stdout",
     "output_type": "stream",
     "text": [
      "Help on method drop in module pandas.core.generic:\n",
      "\n",
      "drop(labels, axis=0, level=None, inplace=False, errors='raise') method of pandas.core.frame.DataFrame instance\n",
      "    Return new object with labels in requested axis removed.\n",
      "    \n",
      "    Parameters\n",
      "    ----------\n",
      "    labels : single label or list-like\n",
      "    axis : int or axis name\n",
      "    level : int or level name, default None\n",
      "        For MultiIndex\n",
      "    inplace : bool, default False\n",
      "        If True, do operation inplace and return None.\n",
      "    errors : {'ignore', 'raise'}, default 'raise'\n",
      "        If 'ignore', suppress error and existing labels are dropped.\n",
      "    \n",
      "        .. versionadded:: 0.16.1\n",
      "    \n",
      "    Returns\n",
      "    -------\n",
      "    dropped : type of caller\n",
      "\n"
     ]
    }
   ],
   "source": [
    "help(df.drop)"
   ]
  },
  {
   "cell_type": "code",
   "execution_count": null,
   "metadata": {
    "collapsed": true
   },
   "outputs": [],
   "source": []
  }
 ],
 "metadata": {
  "kernelspec": {
   "display_name": "Python 3",
   "language": "python",
   "name": "python3"
  },
  "language_info": {
   "codemirror_mode": {
    "name": "ipython",
    "version": 3
   },
   "file_extension": ".py",
   "mimetype": "text/x-python",
   "name": "python",
   "nbconvert_exporter": "python",
   "pygments_lexer": "ipython3",
   "version": "3.6.0"
  }
 },
 "nbformat": 4,
 "nbformat_minor": 2
}
